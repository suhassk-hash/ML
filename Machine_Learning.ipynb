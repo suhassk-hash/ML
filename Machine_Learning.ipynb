{
  "nbformat": 4,
  "nbformat_minor": 0,
  "metadata": {
    "colab": {
      "provenance": [],
      "authorship_tag": "ABX9TyMyLrocGZilSLSvZo9uczSR",
      "include_colab_link": true
    },
    "kernelspec": {
      "name": "python3",
      "display_name": "Python 3"
    },
    "language_info": {
      "name": "python"
    }
  },
  "cells": [
    {
      "cell_type": "markdown",
      "metadata": {
        "id": "view-in-github",
        "colab_type": "text"
      },
      "source": [
        "<a href=\"https://colab.research.google.com/github/suhassk-hash/ML/blob/main/Machine_Learning.ipynb\" target=\"_parent\"><img src=\"https://colab.research.google.com/assets/colab-badge.svg\" alt=\"Open In Colab\"/></a>"
      ]
    },
    {
      "cell_type": "code",
      "execution_count": null,
      "metadata": {
        "id": "6ZosMf1ZKGdy"
      },
      "outputs": [],
      "source": []
    },
    {
      "cell_type": "code",
      "source": [
        "import sys\n",
        "import scipy\n",
        "import numpy\n",
        "import matplotlib\n",
        "import pandas\n",
        "import sklearn"
      ],
      "metadata": {
        "execution": {
          "iopub.status.busy": "2024-02-24T17:20:47.509838Z",
          "iopub.execute_input": "2024-02-24T17:20:47.510274Z",
          "iopub.status.idle": "2024-02-24T17:20:47.516071Z",
          "shell.execute_reply.started": "2024-02-24T17:20:47.510242Z",
          "shell.execute_reply": "2024-02-24T17:20:47.515221Z"
        },
        "trusted": true,
        "id": "fXrxtSM6Jysz"
      },
      "execution_count": null,
      "outputs": []
    },
    {
      "cell_type": "code",
      "source": [
        "#Load libraries\n",
        "import pandas\n",
        "from pandas.plotting import scatter_matrix\n",
        "import matplotlib.pyplot as plt\n",
        "from sklearn import model_selection\n",
        "from sklearn.metrics import classification_report\n",
        "from sklearn.metrics import confusion_matrix\n",
        "from sklearn.metrics import accuracy_score\n",
        "from sklearn.linear_model import LogisticRegression\n",
        "from sklearn.tree import DecisionTreeClassifier\n",
        "from sklearn.neighbors import KNeighborsClassifier\n",
        "from sklearn.discriminant_analysis import LinearDiscriminantAnalysis\n",
        "from sklearn.naive_bayes import GaussianNB\n",
        "from sklearn.svm import SVC"
      ],
      "metadata": {
        "execution": {
          "iopub.status.busy": "2024-02-24T17:20:47.51787Z",
          "iopub.execute_input": "2024-02-24T17:20:47.518947Z",
          "iopub.status.idle": "2024-02-24T17:20:47.529461Z",
          "shell.execute_reply.started": "2024-02-24T17:20:47.518904Z",
          "shell.execute_reply": "2024-02-24T17:20:47.528404Z"
        },
        "trusted": true,
        "id": "z0HHUyVjJys_"
      },
      "execution_count": null,
      "outputs": []
    },
    {
      "cell_type": "code",
      "source": [
        "#Loading data\n",
        "url= \"https://archive.ics.uci.edu/ml/machine-learning-databases/iris/iris.data\"\n",
        "names= ['sepal-length', 'sepal-width', 'petal-length', 'petal-width', 'class']\n",
        "dataset=pandas.read_csv (url, names=names)"
      ],
      "metadata": {
        "execution": {
          "iopub.status.busy": "2024-02-24T17:21:30.509283Z",
          "iopub.execute_input": "2024-02-24T17:21:30.509727Z",
          "iopub.status.idle": "2024-02-24T17:21:31.263117Z",
          "shell.execute_reply.started": "2024-02-24T17:21:30.509693Z",
          "shell.execute_reply": "2024-02-24T17:21:31.261794Z"
        },
        "trusted": true,
        "id": "gLF136pxJytC"
      },
      "execution_count": null,
      "outputs": []
    },
    {
      "cell_type": "code",
      "source": [
        "print(dataset.shape) # gives number of rows and columns\n",
        "print(dataset.head(10)) # prints the number of values form first\n",
        "print(dataset.describe())# gives the details of the data"
      ],
      "metadata": {
        "execution": {
          "iopub.status.busy": "2024-02-24T17:24:46.680413Z",
          "iopub.execute_input": "2024-02-24T17:24:46.680848Z",
          "iopub.status.idle": "2024-02-24T17:24:46.707695Z",
          "shell.execute_reply.started": "2024-02-24T17:24:46.680815Z",
          "shell.execute_reply": "2024-02-24T17:24:46.706554Z"
        },
        "trusted": true,
        "id": "JQwEQfp6JytG",
        "outputId": "73c2062a-1520-4626-b41f-f59ce39173df",
        "colab": {
          "base_uri": "https://localhost:8080/"
        }
      },
      "execution_count": null,
      "outputs": [
        {
          "output_type": "stream",
          "name": "stdout",
          "text": [
            "(150, 5)\n",
            "   sepal-length  sepal-width  petal-length  petal-width        class\n",
            "0           5.1          3.5           1.4          0.2  Iris-setosa\n",
            "1           4.9          3.0           1.4          0.2  Iris-setosa\n",
            "2           4.7          3.2           1.3          0.2  Iris-setosa\n",
            "3           4.6          3.1           1.5          0.2  Iris-setosa\n",
            "4           5.0          3.6           1.4          0.2  Iris-setosa\n",
            "5           5.4          3.9           1.7          0.4  Iris-setosa\n",
            "6           4.6          3.4           1.4          0.3  Iris-setosa\n",
            "7           5.0          3.4           1.5          0.2  Iris-setosa\n",
            "8           4.4          2.9           1.4          0.2  Iris-setosa\n",
            "9           4.9          3.1           1.5          0.1  Iris-setosa\n",
            "       sepal-length  sepal-width  petal-length  petal-width\n",
            "count    150.000000   150.000000    150.000000   150.000000\n",
            "mean       5.843333     3.054000      3.758667     1.198667\n",
            "std        0.828066     0.433594      1.764420     0.763161\n",
            "min        4.300000     2.000000      1.000000     0.100000\n",
            "25%        5.100000     2.800000      1.600000     0.300000\n",
            "50%        5.800000     3.000000      4.350000     1.300000\n",
            "75%        6.400000     3.300000      5.100000     1.800000\n",
            "max        7.900000     4.400000      6.900000     2.500000\n"
          ]
        }
      ]
    }
  ]
}