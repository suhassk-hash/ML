{
  "nbformat": 4,
  "nbformat_minor": 0,
  "metadata": {
    "colab": {
      "provenance": [],
      "authorship_tag": "ABX9TyN7u5KEiFpirDoSlvz4iAPT",
      "include_colab_link": true
    },
    "kernelspec": {
      "name": "python3",
      "display_name": "Python 3"
    },
    "language_info": {
      "name": "python"
    }
  },
  "cells": [
    {
      "cell_type": "markdown",
      "metadata": {
        "id": "view-in-github",
        "colab_type": "text"
      },
      "source": [
        "<a href=\"https://colab.research.google.com/github/suhassk-hash/ML/blob/main/Machine_Learning.ipynb\" target=\"_parent\"><img src=\"https://colab.research.google.com/assets/colab-badge.svg\" alt=\"Open In Colab\"/></a>"
      ]
    },
    {
      "cell_type": "code",
      "source": [
        "import sys\n",
        "import scipy\n",
        "import numpy\n",
        "import matplotlib\n",
        "import pandas\n",
        "import sklearn"
      ],
      "metadata": {
        "execution": {
          "iopub.status.busy": "2024-02-24T17:20:47.509838Z",
          "iopub.execute_input": "2024-02-24T17:20:47.510274Z",
          "iopub.status.idle": "2024-02-24T17:20:47.516071Z",
          "shell.execute_reply.started": "2024-02-24T17:20:47.510242Z",
          "shell.execute_reply": "2024-02-24T17:20:47.515221Z"
        },
        "trusted": true,
        "id": "fXrxtSM6Jysz"
      },
      "execution_count": 20,
      "outputs": []
    },
    {
      "cell_type": "code",
      "source": [
        "#Load libraries\n",
        "import pandas\n",
        "from pandas.plotting import scatter_matrix\n",
        "import matplotlib.pyplot as plt\n",
        "from sklearn import model_selection\n",
        "from sklearn.metrics import classification_report\n",
        "from sklearn.metrics import confusion_matrix\n",
        "from sklearn.metrics import accuracy_score\n",
        "from sklearn.linear_model import LogisticRegression\n",
        "from sklearn.tree import DecisionTreeClassifier\n",
        "from sklearn.neighbors import KNeighborsClassifier\n",
        "from sklearn.discriminant_analysis import LinearDiscriminantAnalysis\n",
        "from sklearn.naive_bayes import GaussianNB\n",
        "from sklearn.svm import SVC"
      ],
      "metadata": {
        "execution": {
          "iopub.status.busy": "2024-02-24T17:20:47.51787Z",
          "iopub.execute_input": "2024-02-24T17:20:47.518947Z",
          "iopub.status.idle": "2024-02-24T17:20:47.529461Z",
          "shell.execute_reply.started": "2024-02-24T17:20:47.518904Z",
          "shell.execute_reply": "2024-02-24T17:20:47.528404Z"
        },
        "trusted": true,
        "id": "z0HHUyVjJys_"
      },
      "execution_count": 37,
      "outputs": []
    },
    {
      "cell_type": "code",
      "source": [
        "#Loading data\n",
        "url= \"https://archive.ics.uci.edu/ml/machine-learning-databases/iris/iris.data\" #giving url of data\n",
        "names= ['sepal-length', 'sepal-width', 'petal-length', 'petal-width', 'class'] #giving names to the data read from url\n",
        "dataset=pandas.read_csv (url, names=names) #reading names"
      ],
      "metadata": {
        "execution": {
          "iopub.status.busy": "2024-02-24T17:21:30.509283Z",
          "iopub.execute_input": "2024-02-24T17:21:30.509727Z",
          "iopub.status.idle": "2024-02-24T17:21:31.263117Z",
          "shell.execute_reply.started": "2024-02-24T17:21:30.509693Z",
          "shell.execute_reply": "2024-02-24T17:21:31.261794Z"
        },
        "trusted": true,
        "id": "gLF136pxJytC"
      },
      "execution_count": 22,
      "outputs": []
    },
    {
      "cell_type": "code",
      "source": [
        "print(dataset.shape) # gives number of rows and columns\n",
        "print(dataset.head(10)) # prints the number of values form first\n",
        "print(dataset.describe())# gives the details of the data\n",
        "print(dataset.groupby('class').size()) # it groups the colums mentioned in the argument and gives the size of instances"
      ],
      "metadata": {
        "execution": {
          "iopub.status.busy": "2024-02-24T17:24:46.680413Z",
          "iopub.execute_input": "2024-02-24T17:24:46.680848Z",
          "iopub.status.idle": "2024-02-24T17:24:46.707695Z",
          "shell.execute_reply.started": "2024-02-24T17:24:46.680815Z",
          "shell.execute_reply": "2024-02-24T17:24:46.706554Z"
        },
        "trusted": true,
        "id": "JQwEQfp6JytG"
      },
      "execution_count": null,
      "outputs": []
    },
    {
      "cell_type": "code",
      "source": [
        "dataset.plot (kind='box', subplots =True, layout=(2, 2), sharex = False, sharey = False) #share x and y represents sharing of x and y among subplots\n",
        "plt.show()\n",
        "dataset.hist () #creating histogram\n",
        "plt.show ()\n",
        "scatter_matrix(dataset) #multivariable plot\n",
        "plt.show()"
      ],
      "metadata": {
        "id": "ENYF_V2GN5Mi"
      },
      "execution_count": null,
      "outputs": []
    },
    {
      "cell_type": "code",
      "source": [
        "array =dataset.values\n",
        "X = array[:,0:4]\n",
        "Y = array[:,4]\n",
        "validation_size = 0.20\n",
        "seed = 6\n",
        "X_train, X_test, Y_train, Y_test= model_selection.train_test_split (X,Y, test_size = validation_size, random_state = seed)"
      ],
      "metadata": {
        "id": "O_m7xMYSO05u"
      },
      "execution_count": 42,
      "outputs": []
    },
    {
      "cell_type": "code",
      "source": [
        "scoring='accuracy'\n",
        "seed=6"
      ],
      "metadata": {
        "id": "e8Q9DOV-RYyi"
      },
      "execution_count": 46,
      "outputs": []
    },
    {
      "cell_type": "code",
      "source": [
        "#Spot Check Algorithms\n",
        "models = []\n",
        "models.append (('LR', LogisticRegression ()))\n",
        "models. append(('LDA', LinearDiscriminantAnalysis ()))\n",
        "models.append (('KNN', KNeighborsClassifier ()))\n",
        "models.append (('CART', DecisionTreeClassifier()))\n",
        "models.append (('NB', GaussianNB ()))\n",
        "models. append(('SVM', SVC ()))\n",
        "message=[]\n",
        "# evaluate each model in turn\n",
        "results = []\n",
        "names= []\n",
        "for name, model in models:\n",
        "  kfold = model_selection.KFold (n_splits=10, random_state=None)\n",
        "  cv_results = model_selection.cross_val_score (model, X_train, Y_train, cv=kfold, scoring=scoring)\n",
        "  results.append (cv_results)\n",
        "  names.append (name)\n",
        "  msg = \"%s: %f (%f)\" % (name, cv_results.mean(), cv_results.std())\n",
        "  message.append(msg)\n",
        ""
      ],
      "metadata": {
        "id": "7O7_P2rhRy22"
      },
      "execution_count": null,
      "outputs": []
    },
    {
      "cell_type": "code",
      "source": [
        "message"
      ],
      "metadata": {
        "colab": {
          "base_uri": "https://localhost:8080/"
        },
        "id": "_1nLUY97TnSC",
        "outputId": "b97b7c60-e6eb-4382-d12e-f84067e3f6e9"
      },
      "execution_count": 56,
      "outputs": [
        {
          "output_type": "execute_result",
          "data": {
            "text/plain": [
              "['LR: 0.950000 (0.076376)',\n",
              " 'LDA: 0.975000 (0.038188)',\n",
              " 'KNN: 0.958333 (0.055902)',\n",
              " 'CART: 0.933333 (0.072648)',\n",
              " 'NB: 0.966667 (0.055277)',\n",
              " 'SVM: 0.950000 (0.076376)']"
            ]
          },
          "metadata": {},
          "execution_count": 56
        }
      ]
    }
  ]
}